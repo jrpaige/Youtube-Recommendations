{
 "cells": [
  {
   "cell_type": "code",
   "execution_count": 321,
   "metadata": {},
   "outputs": [],
   "source": [
    "import pymongo\n",
    "from pymongo import MongoClient\n",
    "import pprint\n",
    "\n",
    "import pandas as pd\n",
    "\n",
    "# Requests sends and recieves HTTP requests.\n",
    "import requests\n",
    "\n",
    "# Beautiful Soup parses HTML documents in python.\n",
    "from bs4 import BeautifulSoup\n",
    "\n",
    "import json\n",
    "import time"
   ]
  },
  {
   "cell_type": "code",
   "execution_count": 322,
   "metadata": {},
   "outputs": [],
   "source": [
    "client = MongoClient('localhost', 27017)\n",
    "# Access/Initiate Database\n",
    "db = client['test_database']\n",
    "# Access/Initiate Table\n",
    "tab = db['test_table']"
   ]
  },
  {
   "cell_type": "markdown",
   "metadata": {},
   "source": [
    "Custom extraction\n",
    "Custom extraction allows you to collect any data from the HTML of a URL. Extraction is performed on the static HTML returned by internal HTML pages with a 2xx response code. You can switch to JavaScript rendering mode to extract data from the rendered HTML (for any data that’s client-side only).\n",
    "\n",
    "The SEO Spider supports the following modes to perform data extraction:\n",
    "\n",
    "XPath: XPath selectors, including attributes.\n",
    "CSS Path: CSS Path and optional attribute.\n",
    "Regex: For more advanced uses, such as scraping HTML comments or inline JavaScript.\n",
    "When using XPath or CSS Path to collect HTML, you can choose what to extract:\n",
    "\n",
    "Extract HTML Element: The selected element and its inner HTML content.\n",
    "Extract Inner HTML: The inner HTML content of the selected element. If the selected element contains other HTML elements, they will be included.\n",
    "Extract Text: The text content of the selected element and the text content of any sub elements.\n",
    "Function Value: The result of the supplied function, eg count(//h1) to find the number of h1 tags on a page.\n",
    "To set up custom extraction, click ‘Config > Custom > Extraction’.\n",
    "\n",
    "Custom Extraction Menu\n",
    "Just click ‘Add’ to use an extractor, and insert the relevant syntax. Up to 100 separate extractors can be configured to scrape data from a website.\n",
    "\n",
    "Custom Extraction config\n",
    "The data extracted can be viewed in the Custom Extraction tab Extracted data is also included as columns within the ‘Internal’ tab as well.\n",
    "\n",
    "Custom Extraction\n",
    "Please read our SEO Spider web scraping guide for a full tutorial on how to use custom extraction. For examples of custom extraction expressions, please see our XPath Examples and Regex Examples.\n",
    "\n",
    "Regex Troubleshooting\n",
    "The SEO Spider does not pre process HTML before running regexes. Please bear in mind however that the HTML you see in a browser when viewing source maybe different to what the SEO Spider sees. This can be caused by the web site returning different content based on User-Agent or Cookies, or if the pages content is generated using JavaScript and you are not using JavaScript rendering.\n",
    "More details on the regex engine used by the SEO Spider can be found here.\n",
    "The regex engine is configured such that the dot character matches newlines."
   ]
  },
  {
   "cell_type": "raw",
   "metadata": {},
   "source": [
    "https://www.screamingfrog.co.uk/seo-spider/user-guide/configuration/#custom-extraction"
   ]
  },
  {
   "cell_type": "raw",
   "metadata": {},
   "source": [
    "Film \n",
    "Animation\n",
    "Autos\n",
    "Vehicles\n",
    "Music\n",
    "Pets\n",
    "Animals\n",
    "Sports\n",
    "Travel\n",
    "Events\n",
    "Gaming\n",
    "Health \n",
    "Cooking \n",
    "People\n",
    "Blogs\n",
    "Comedy\n",
    "Entertainment\n",
    "News\n",
    "Politics\n",
    "Howto\n",
    "Style\n",
    "Education\n",
    "Science\n",
    "Technology\n",
    "Nonprofits\n",
    "Activism\n",
    "Beauty \n",
    "Fashion\n",
    "History\n",
    "Family\n",
    "World \n",
    "Social\n",
    "Business\n",
    "Food\n"
   ]
  },
  {
   "cell_type": "code",
   "execution_count": 376,
   "metadata": {
    "scrolled": true
   },
   "outputs": [],
   "source": [
    "film = 'https://www.youtube.com/watch?v=K_IHoG1XfoI'\n",
    "animation = 'https://www.youtube.com/watch?v=FSGL0T9EgFs'\n",
    "autos = 'https://www.youtube.com/watch?v=15eZ6EiC1XY'\n",
    "vehicles = 'https://www.youtube.com/watch?v=lfvqkpl-U6k'\n",
    "music = 'https://www.youtube.com/watch?v=izIW2NY3QBY'\n",
    "pets = 'https://www.youtube.com/watch?v=lGu3BqhtUb4'\n",
    "animals = 'https://www.youtube.com/watch?v=Zyjerh9kLQA'\n",
    "sports = 'https://www.youtube.com/watch?v=_qyopTE7iFQ'\n",
    "travel = 'https://www.youtube.com/watch?v=XwvZE3mSgas'\n",
    "events = 'https://www.youtube.com/watch?v=Gy_8DkfV08I'\n",
    "gaming = 'https://www.youtube.com/watch?v=nfY9-tbaZYc'\n",
    "health = 'https://www.youtube.com/watch?v=nfY9-tbaZYc'\n",
    "cooking = 'https://www.youtube.com/watch?v=UDN1-Y166fo'\n",
    "people = 'https://www.youtube.com/watch?v=LduMuvKHPbE'\n",
    "blogs = 'https://www.youtube.com/watch?v=c1sciLd88Sw'\n",
    "comedy = 'https://www.youtube.com/watch?v=DEp2hCMChvc'\n",
    "entertainment = 'https://www.youtube.com/watch?v=LXXkiUKDK4w'\n",
    "news = 'https://www.youtube.com/watch?v=nis4Xy32e9M'\n",
    "politics = 'https://www.youtube.com/watch?v=5qWT_ok_17o'\n",
    "howto = 'https://www.youtube.com/watch?v=pMfV9g0P_kM'\n",
    "style = 'https://www.youtube.com/watch?v=-CmadmM5cOk'\n",
    "education = 'https://www.youtube.com/watch?v=S294zRodS_4'\n",
    "science = 'https://www.youtube.com/watch?v=2z3hNwixLYM'\n",
    "technology = 'https://www.youtube.com/watch?v=aa4gxjISlvg'\n",
    "nonprofits = 'https://www.youtube.com/watch?v=8Lhgruor0Z0'\n",
    "activism = 'https://www.youtube.com/watch?v=coHWLitlm-U'\n",
    "beauty = 'https://www.youtube.com/watch?v=rVZRLbOy4ZQ'\n",
    "fashion = 'https://www.youtube.com/watch?v=ryLKJXHwKQ0'\n",
    "history = 'https://www.youtube.com/watch?v=xGjpTjeGuZc'\n",
    "family = 'https://www.youtube.com/watch?v=G-MJweftmVU'\n",
    "world = 'https://www.youtube.com/watch?v=DqHctQwqgQ0'\n",
    "social = 'https://www.youtube.com/watch?v=XVHneYYLxxE'\n",
    "business = 'https://www.youtube.com/watch?v=KJcWFkRiKIU'\n",
    "food = 'https://www.youtube.com/watch?v=0SPwwpruGIA'"
   ]
  },
  {
   "cell_type": "code",
   "execution_count": null,
   "metadata": {},
   "outputs": [],
   "source": []
  },
  {
   "cell_type": "code",
   "execution_count": 341,
   "metadata": {},
   "outputs": [],
   "source": [
    "search_terms =[\n",
    "film, \n",
    "animation,\n",
    "autos,\n",
    "vehicles,\n",
    "music,\n",
    "pets,\n",
    "animals,\n",
    "sports,\n",
    "travel,\n",
    "events,\n",
    "gaming,\n",
    "health ,\n",
    "cooking ,\n",
    "people,\n",
    "blogs,\n",
    "comedy,\n",
    "entertainment,\n",
    "news,\n",
    "politics,\n",
    "howto,\n",
    "style,\n",
    "education,\n",
    "science,\n",
    "technology,\n",
    "nonprofits,\n",
    "activism,\n",
    "beauty ,\n",
    "fashion,\n",
    "history,\n",
    "family,\n",
    "world ,\n",
    "social,\n",
    "business,\n",
    "food]\n"
   ]
  },
  {
   "cell_type": "code",
   "execution_count": 370,
   "metadata": {},
   "outputs": [],
   "source": [
    "search_terms =[film, animation, autos, vehicles, music, pets, animals, sports, travel, events, gaming, health, cooking, people, blogs, comedy, entertainment, news, politics, howto, style, education, science, technology, nonprofits, activism, beauty, fashion, history, family, world, social, business, food]\n"
   ]
  },
  {
   "cell_type": "markdown",
   "metadata": {},
   "source": [
    "['film',\n",
    " ' animation',\n",
    " ' autos',\n",
    " ' vehicles',\n",
    " ' music',\n",
    " ' pets',\n",
    " ' animals',\n",
    " ' sports',\n",
    " ' travel',\n",
    " ' events',\n",
    " ' gaming',\n",
    " ' health',\n",
    " ' cooking',\n",
    " ' people',\n",
    " ' blogs',\n",
    " ' comedy',\n",
    " ' entertainment',\n",
    " ' news',\n",
    " ' politics',\n",
    " ' howto',\n",
    " ' style',\n",
    " ' education',\n",
    " ' science',\n",
    " ' technology',\n",
    " ' nonprofits',\n",
    " ' activism',\n",
    " ' beauty',\n",
    " ' fashion',\n",
    " ' history',\n",
    " ' family',\n",
    " ' world',\n",
    " ' social',\n",
    " ' business',\n",
    " ' food']"
   ]
  },
  {
   "cell_type": "code",
   "execution_count": 377,
   "metadata": {},
   "outputs": [
    {
     "ename": "SyntaxError",
     "evalue": "invalid syntax (<ipython-input-377-72408ad96747>, line 1)",
     "output_type": "error",
     "traceback": [
      "\u001b[0;36m  File \u001b[0;32m\"<ipython-input-377-72408ad96747>\"\u001b[0;36m, line \u001b[0;32m1\u001b[0m\n\u001b[0;31m    search_term_dict = {'film', ' animation', ' autos', ' vehicles', ' music', ' pets', ' animals', ' sports', ' travel', ' events', ' gaming', ' health', ' cooking', ' people', ' blogs', ' comedy', ' entertainment', ' news', ' politics', ' howto', ' style', ' education', ' science', ' technology', ' nonprofits', ' activism', ' beauty', ' fashion', ' history', ' family', ' world', ' social', ' business', ' food']}\u001b[0m\n\u001b[0m                                                                                                                                                                                                                                                                                                                                                                                                                               ^\u001b[0m\n\u001b[0;31mSyntaxError\u001b[0m\u001b[0;31m:\u001b[0m invalid syntax\n"
     ]
    }
   ],
   "source": [
    "search_term_dict = {'film', ' animation', ' autos', ' vehicles', ' music', ' pets', ' animals', ' sports', ' travel', ' events', ' gaming', ' health', ' cooking', ' people', ' blogs', ' comedy', ' entertainment', ' news', ' politics', ' howto', ' style', ' education', ' science', ' technology', ' nonprofits', ' activism', ' beauty', ' fashion', ' history', ' family', ' world', ' social', ' business', ' food']}"
   ]
  },
  {
   "cell_type": "code",
   "execution_count": 368,
   "metadata": {},
   "outputs": [],
   "source": [
    "search_term_vals = ['film', ' animation', ' autos', ' vehicles', ' music', ' pets', ' animals', ' sports', ' travel', ' events', ' gaming', ' health', ' cooking', ' people', ' blogs', ' comedy', ' entertainment', ' news', ' politics', ' howto', ' style', ' education', ' science', ' technology', ' nonprofits', ' activism', ' beauty', ' fashion', ' history', ' family', ' world', ' social', ' business', ' food']"
   ]
  },
  {
   "cell_type": "code",
   "execution_count": 381,
   "metadata": {},
   "outputs": [],
   "source": [
    "search = []"
   ]
  },
  {
   "cell_type": "code",
   "execution_count": 390,
   "metadata": {},
   "outputs": [
    {
     "name": "stdout",
     "output_type": "stream",
     "text": [
      "'film',\n",
      "' animation',\n",
      "' autos',\n",
      "' vehicles',\n",
      "' music',\n",
      "' pets',\n",
      "' animals',\n",
      "' sports',\n",
      "' travel',\n",
      "' events',\n",
      "' gaming',\n",
      "' health',\n",
      "' cooking',\n",
      "' people',\n",
      "' blogs',\n",
      "' comedy',\n",
      "' entertainment',\n",
      "' news',\n",
      "' politics',\n",
      "' howto',\n",
      "' style',\n",
      "' education',\n",
      "' science',\n",
      "' technology',\n",
      "' nonprofits',\n",
      "' activism',\n",
      "' beauty',\n",
      "' fashion',\n",
      "' history',\n",
      "' family',\n",
      "' world',\n",
      "' social',\n",
      "' business',\n",
      "' food',\n"
     ]
    },
    {
     "data": {
      "text/plain": [
       "[\"'film',\",\n",
       " \"' animation',\",\n",
       " \"' autos',\",\n",
       " \"' vehicles',\",\n",
       " \"' music',\",\n",
       " \"' pets',\",\n",
       " \"' animals',\",\n",
       " \"' sports',\",\n",
       " \"' travel',\",\n",
       " \"' events',\",\n",
       " \"' gaming',\",\n",
       " \"' health',\",\n",
       " \"' cooking',\",\n",
       " \"' people',\",\n",
       " \"' blogs',\",\n",
       " \"' comedy',\",\n",
       " \"' entertainment',\",\n",
       " \"' news',\",\n",
       " \"' politics',\",\n",
       " \"' howto',\",\n",
       " \"' style',\",\n",
       " \"' education',\",\n",
       " \"' science',\",\n",
       " \"' technology',\",\n",
       " \"' nonprofits',\",\n",
       " \"' activism',\",\n",
       " \"' beauty',\",\n",
       " \"' fashion',\",\n",
       " \"' history',\",\n",
       " \"' family',\",\n",
       " \"' world',\",\n",
       " \"' social',\",\n",
       " \"' business',\",\n",
       " \"' food',\",\n",
       " \"'film',\",\n",
       " \"' animation',\",\n",
       " \"' autos',\",\n",
       " \"' vehicles',\",\n",
       " \"' music',\",\n",
       " \"' pets',\",\n",
       " \"' animals',\",\n",
       " \"' sports',\",\n",
       " \"' travel',\",\n",
       " \"' events',\",\n",
       " \"' gaming',\",\n",
       " \"' health',\",\n",
       " \"' cooking',\",\n",
       " \"' people',\",\n",
       " \"' blogs',\",\n",
       " \"' comedy',\",\n",
       " \"' entertainment',\",\n",
       " \"' news',\",\n",
       " \"' politics',\",\n",
       " \"' howto',\",\n",
       " \"' style',\",\n",
       " \"' education',\",\n",
       " \"' science',\",\n",
       " \"' technology',\",\n",
       " \"' nonprofits',\",\n",
       " \"' activism',\",\n",
       " \"' beauty',\",\n",
       " \"' fashion',\",\n",
       " \"' history',\",\n",
       " \"' family',\",\n",
       " \"' world',\",\n",
       " \"' social',\",\n",
       " \"' business',\",\n",
       " \"' food',\",\n",
       " \"'film',\",\n",
       " \"' animation',\",\n",
       " \"' autos',\",\n",
       " \"' vehicles',\",\n",
       " \"' music',\",\n",
       " \"' pets',\",\n",
       " \"' animals',\",\n",
       " \"' sports',\",\n",
       " \"' travel',\",\n",
       " \"' events',\",\n",
       " \"' gaming',\",\n",
       " \"' health',\",\n",
       " \"' cooking',\",\n",
       " \"' people',\",\n",
       " \"' blogs',\",\n",
       " \"' comedy',\",\n",
       " \"' entertainment',\",\n",
       " \"' news',\",\n",
       " \"' politics',\",\n",
       " \"' howto',\",\n",
       " \"' style',\",\n",
       " \"' education',\",\n",
       " \"' science',\",\n",
       " \"' technology',\",\n",
       " \"' nonprofits',\",\n",
       " \"' activism',\",\n",
       " \"' beauty',\",\n",
       " \"' fashion',\",\n",
       " \"' history',\",\n",
       " \"' family',\",\n",
       " \"' world',\",\n",
       " \"' social',\",\n",
       " \"' business',\",\n",
       " \"' food',\",\n",
       " '+i+',\n",
       " '+i+',\n",
       " '+i+',\n",
       " '+i+',\n",
       " '+i+',\n",
       " '+i+',\n",
       " '+i+',\n",
       " '+i+',\n",
       " '+i+',\n",
       " '+i+',\n",
       " '+i+',\n",
       " '+i+',\n",
       " '+i+',\n",
       " '+i+',\n",
       " '+i+',\n",
       " '+i+',\n",
       " '+i+',\n",
       " '+i+',\n",
       " '+i+',\n",
       " '+i+',\n",
       " '+i+',\n",
       " '+i+',\n",
       " '+i+',\n",
       " '+i+',\n",
       " '+i+',\n",
       " '+i+',\n",
       " '+i+',\n",
       " '+i+',\n",
       " '+i+',\n",
       " '+i+',\n",
       " '+i+',\n",
       " '+i+',\n",
       " '+i+',\n",
       " '+i+',\n",
       " \"'film,'\",\n",
       " \"' animation,'\",\n",
       " \"' autos,'\",\n",
       " \"' vehicles,'\",\n",
       " \"' music,'\",\n",
       " \"' pets,'\",\n",
       " \"' animals,'\",\n",
       " \"' sports,'\",\n",
       " \"' travel,'\",\n",
       " \"' events,'\",\n",
       " \"' gaming,'\",\n",
       " \"' health,'\",\n",
       " \"' cooking,'\",\n",
       " \"' people,'\",\n",
       " \"' blogs,'\",\n",
       " \"' comedy,'\",\n",
       " \"' entertainment,'\",\n",
       " \"' news,'\",\n",
       " \"' politics,'\",\n",
       " \"' howto,'\",\n",
       " \"' style,'\",\n",
       " \"' education,'\",\n",
       " \"' science,'\",\n",
       " \"' technology,'\",\n",
       " \"' nonprofits,'\",\n",
       " \"' activism,'\",\n",
       " \"' beauty,'\",\n",
       " \"' fashion,'\",\n",
       " \"' history,'\",\n",
       " \"' family,'\",\n",
       " \"' world,'\",\n",
       " \"' social,'\",\n",
       " \"' business,'\",\n",
       " \"' food,'\",\n",
       " \"'film',\",\n",
       " \"' animation',\",\n",
       " \"' autos',\",\n",
       " \"' vehicles',\",\n",
       " \"' music',\",\n",
       " \"' pets',\",\n",
       " \"' animals',\",\n",
       " \"' sports',\",\n",
       " \"' travel',\",\n",
       " \"' events',\",\n",
       " \"' gaming',\",\n",
       " \"' health',\",\n",
       " \"' cooking',\",\n",
       " \"' people',\",\n",
       " \"' blogs',\",\n",
       " \"' comedy',\",\n",
       " \"' entertainment',\",\n",
       " \"' news',\",\n",
       " \"' politics',\",\n",
       " \"' howto',\",\n",
       " \"' style',\",\n",
       " \"' education',\",\n",
       " \"' science',\",\n",
       " \"' technology',\",\n",
       " \"' nonprofits',\",\n",
       " \"' activism',\",\n",
       " \"' beauty',\",\n",
       " \"' fashion',\",\n",
       " \"' history',\",\n",
       " \"' family',\",\n",
       " \"' world',\",\n",
       " \"' social',\",\n",
       " \"' business',\",\n",
       " \"' food',\",\n",
       " \"'film',\",\n",
       " \"' animation',\",\n",
       " \"' autos',\",\n",
       " \"' vehicles',\",\n",
       " \"' music',\",\n",
       " \"' pets',\",\n",
       " \"' animals',\",\n",
       " \"' sports',\",\n",
       " \"' travel',\",\n",
       " \"' events',\",\n",
       " \"' gaming',\",\n",
       " \"' health',\",\n",
       " \"' cooking',\",\n",
       " \"' people',\",\n",
       " \"' blogs',\",\n",
       " \"' comedy',\",\n",
       " \"' entertainment',\",\n",
       " \"' news',\",\n",
       " \"' politics',\",\n",
       " \"' howto',\",\n",
       " \"' style',\",\n",
       " \"' education',\",\n",
       " \"' science',\",\n",
       " \"' technology',\",\n",
       " \"' nonprofits',\",\n",
       " \"' activism',\",\n",
       " \"' beauty',\",\n",
       " \"' fashion',\",\n",
       " \"' history',\",\n",
       " \"' family',\",\n",
       " \"' world',\",\n",
       " \"' social',\",\n",
       " \"' business',\",\n",
       " \"' food',\"]"
      ]
     },
     "execution_count": 390,
     "metadata": {},
     "output_type": "execute_result"
    }
   ],
   "source": [
    "for i in search_term_vals:\n",
    "    print(\"'\"+i+\"',\")\n",
    "search"
   ]
  },
  {
   "cell_type": "code",
   "execution_count": 392,
   "metadata": {},
   "outputs": [],
   "source": [
    "srch = str(search)"
   ]
  },
  {
   "cell_type": "code",
   "execution_count": null,
   "metadata": {},
   "outputs": [],
   "source": []
  },
  {
   "cell_type": "code",
   "execution_count": null,
   "metadata": {},
   "outputs": [],
   "source": []
  },
  {
   "cell_type": "code",
   "execution_count": null,
   "metadata": {},
   "outputs": [],
   "source": []
  },
  {
   "cell_type": "code",
   "execution_count": 346,
   "metadata": {},
   "outputs": [
    {
     "ename": "TypeError",
     "evalue": "'set' object is not subscriptable",
     "output_type": "error",
     "traceback": [
      "\u001b[0;31m---------------------------------------------------------------------------\u001b[0m",
      "\u001b[0;31mTypeError\u001b[0m                                 Traceback (most recent call last)",
      "\u001b[0;32m<ipython-input-346-3563913addf9>\u001b[0m in \u001b[0;36m<module>\u001b[0;34m\u001b[0m\n\u001b[0;32m----> 1\u001b[0;31m \u001b[0msearch_term_dict\u001b[0m\u001b[0;34m[\u001b[0m\u001b[0;36m2\u001b[0m\u001b[0;34m]\u001b[0m\u001b[0;34m\u001b[0m\u001b[0;34m\u001b[0m\u001b[0m\n\u001b[0m",
      "\u001b[0;31mTypeError\u001b[0m: 'set' object is not subscriptable"
     ]
    }
   ],
   "source": [
    "search_term_dict[2]"
   ]
  },
  {
   "cell_type": "code",
   "execution_count": 344,
   "metadata": {},
   "outputs": [
    {
     "data": {
      "text/plain": [
       "['https://www.youtube.com/watch?v=K_IHoG1XfoI',\n",
       " 'https://www.youtube.com/watch?v=FSGL0T9EgFs',\n",
       " 'https://www.youtube.com/watch?v=15eZ6EiC1XY',\n",
       " 'https://www.youtube.com/watch?v=lfvqkpl-U6k',\n",
       " 'https://www.youtube.com/watch?v=izIW2NY3QBY',\n",
       " 'https://www.youtube.com/watch?v=lGu3BqhtUb4',\n",
       " 'https://www.youtube.com/watch?v=Zyjerh9kLQA',\n",
       " 'https://www.youtube.com/watch?v=_qyopTE7iFQ',\n",
       " 'https://www.youtube.com/watch?v=XwvZE3mSgas',\n",
       " 'https://www.youtube.com/watch?v=Gy_8DkfV08I',\n",
       " 'https://www.youtube.com/watch?v=nfY9-tbaZYc',\n",
       " 'https://www.youtube.com/watch?v=nfY9-tbaZYc',\n",
       " 'https://www.youtube.com/watch?v=UDN1-Y166fo',\n",
       " 'https://www.youtube.com/watch?v=LduMuvKHPbE',\n",
       " 'https://www.youtube.com/watch?v=c1sciLd88Sw',\n",
       " 'https://www.youtube.com/watch?v=DEp2hCMChvc',\n",
       " 'https://www.youtube.com/watch?v=LXXkiUKDK4w',\n",
       " 'https://www.youtube.com/watch?v=nis4Xy32e9M',\n",
       " 'https://www.youtube.com/watch?v=5qWT_ok_17o',\n",
       " 'https://www.youtube.com/watch?v=pMfV9g0P_kM',\n",
       " 'https://www.youtube.com/watch?v=-CmadmM5cOk',\n",
       " 'https://www.youtube.com/watch?v=S294zRodS_4',\n",
       " 'https://www.youtube.com/watch?v=2z3hNwixLYM',\n",
       " 'https://www.youtube.com/watch?v=aa4gxjISlvg',\n",
       " 'https://www.youtube.com/watch?v=8Lhgruor0Z0',\n",
       " 'https://www.youtube.com/watch?v=coHWLitlm-U',\n",
       " 'https://www.youtube.com/watch?v=rVZRLbOy4ZQ',\n",
       " 'https://www.youtube.com/watch?v=ryLKJXHwKQ0',\n",
       " 'https://www.youtube.com/watch?v=xGjpTjeGuZc',\n",
       " 'https://www.youtube.com/watch?v=G-MJweftmVU',\n",
       " 'https://www.youtube.com/watch?v=DqHctQwqgQ0',\n",
       " 'https://www.youtube.com/watch?v=XVHneYYLxxE',\n",
       " 'https://www.youtube.com/watch?v=KJcWFkRiKIU',\n",
       " 'https://www.youtube.com/watch?v=0SPwwpruGIA']"
      ]
     },
     "execution_count": 344,
     "metadata": {},
     "output_type": "execute_result"
    }
   ],
   "source": [
    "namestr(a, globals())"
   ]
  },
  {
   "cell_type": "code",
   "execution_count": null,
   "metadata": {},
   "outputs": [],
   "source": []
  },
  {
   "cell_type": "markdown",
   "metadata": {},
   "source": [
    "Pure Links"
   ]
  },
  {
   "cell_type": "markdown",
   "metadata": {},
   "source": []
  },
  {
   "cell_type": "raw",
   "metadata": {},
   "source": [
    "https://youtu.be/RQxXf6MYpzw\n",
    "https://youtu.be/vVthJ_6103I\n",
    "https://youtu.be/l17TPkXGVCo\n",
    "https://youtu.be/m2z8Caoww44\n",
    "https://youtu.be/zMrAZNMXW44\n",
    "https://youtu.be/h9TPeYIMlcc\n",
    "https://youtu.be/q_xJpVlry14\n",
    "https://youtu.be/eHdShyF9x7U\n",
    "https://youtu.be/VLvHlSJXnL8\n",
    "https://youtu.be/Fs9wxF_Xs80\n",
    "https://youtu.be/O7XVQyi7re4\n",
    "https://youtu.be/LCmwkjSzr2g\n",
    "https://youtu.be/bX_kKA6gXCg\n",
    "https://youtu.be/RXn1g0xtUMk\n",
    "https://youtu.be/TeUGhrp3TX0\n",
    "https://youtu.be/5dNiLa0IMKg\n",
    "https://youtu.be/iGIkfQbOtmw\n",
    "https://youtu.be/X9xLlelg8qk\n",
    "https://youtu.be/jQD6S6v4TyU\n",
    "https://youtu.be/ucTJ7Jqwsqo\n",
    "https://youtu.be/pSMb50u78Aw\n",
    "https://youtu.be/RihhE7Qgkww\n",
    "https://youtu.be/knz-Vyv4_Bw\n",
    "https://youtu.be/sg21Nj9eT2o\n",
    "https://youtu.be/xFcF_qfLHeQ "
   ]
  },
  {
   "cell_type": "markdown",
   "metadata": {},
   "source": [
    "Links in a list"
   ]
  },
  {
   "cell_type": "code",
   "execution_count": 35,
   "metadata": {},
   "outputs": [],
   "source": [
    "initial_videos = ['https://youtu.be/RQxXf6MYpzw', 'https://youtu.be/vVthJ_6103I','https://youtu.be/l17TPkXGVCo','https://youtu.be/m2z8Caoww44', 'https://youtu.be/zMrAZNMXW44', 'https://youtu.be/h9TPeYIMlcc', 'https://youtu.be/q_xJpVlry14', 'https://youtu.be/eHdShyF9x7U', 'https://youtu.be/VLvHlSJXnL8', 'https://youtu.be/Fs9wxF_Xs80', 'https://youtu.be/O7XVQyi7re4', 'https://youtu.be/LCmwkjSzr2g', 'https://youtu.be/bX_kKA6gXCg', 'https://youtu.be/RXn1g0xtUMk', 'https://youtu.be/TeUGhrp3TX0','https://youtu.be/5dNiLa0IMKg', 'https://youtu.be/iGIkfQbOtmw', 'https://youtu.be/X9xLlelg8qk', 'https://youtu.be/jQD6S6v4TyU', 'https://youtu.be/ucTJ7Jqwsqo', 'https://youtu.be/pSMb50u78Aw', 'https://youtu.be/RihhE7Qgkww', 'https://youtu.be/knz-Vyv4_Bw', 'https://youtu.be/sg21Nj9eT2o', 'https://youtu.be/xFcF_qfLHeQ']"
   ]
  },
  {
   "cell_type": "code",
   "execution_count": null,
   "metadata": {},
   "outputs": [],
   "source": [
    "init_vid_dict = {'https://youtu.be/RQxXf6MYpzw', 'https://youtu.be/vVthJ_6103I','https://youtu.be/l17TPkXGVCo','https://youtu.be/m2z8Caoww44', 'https://youtu.be/zMrAZNMXW44', 'https://youtu.be/h9TPeYIMlcc', 'https://youtu.be/q_xJpVlry14', 'https://youtu.be/eHdShyF9x7U', 'https://youtu.be/VLvHlSJXnL8', 'https://youtu.be/Fs9wxF_Xs80', 'https://youtu.be/O7XVQyi7re4', 'https://youtu.be/LCmwkjSzr2g', 'https://youtu.be/bX_kKA6gXCg', 'https://youtu.be/RXn1g0xtUMk', 'https://youtu.be/TeUGhrp3TX0','https://youtu.be/5dNiLa0IMKg', 'https://youtu.be/iGIkfQbOtmw', 'https://youtu.be/X9xLlelg8qk', 'https://youtu.be/jQD6S6v4TyU', 'https://youtu.be/ucTJ7Jqwsqo', 'https://youtu.be/pSMb50u78Aw', 'https://youtu.be/RihhE7Qgkww', 'https://youtu.be/knz-Vyv4_Bw', 'https://youtu.be/sg21Nj9eT2o', 'https://youtu.be/xFcF_qfLHeQ'}"
   ]
  },
  {
   "cell_type": "markdown",
   "metadata": {},
   "source": [
    "Links assigned to variables"
   ]
  },
  {
   "cell_type": "code",
   "execution_count": null,
   "metadata": {},
   "outputs": [],
   "source": [
    "video1 = 'https://youtu.be/RQxXf6MYpzw'\n",
    "\n",
    "video2 = 'https://youtu.be/vVthJ_6103I'\n",
    "\n",
    "video3 = 'https://youtu.be/l17TPkXGVCo'\n",
    "\n",
    "video4 = 'https://youtu.be/zMrAZNMXW44'\n",
    "\n",
    "video5 = 'https://youtu.be/h9TPeYIMlcc'\n",
    "\n",
    "video6 = 'https://youtu.be/q_xJpVlry14'\n",
    "\n",
    "video7 = 'https://youtu.be/eHdShyF9x7U'\n",
    "\n",
    "video8 = 'https://youtu.be/VLvHlSJXnL8'\n",
    "\n",
    "video9 = 'https://youtu.be/Fs9wxF_Xs80'\n",
    "\n",
    "video10 = 'https://youtu.be/O7XVQyi7re4'\n",
    "\n",
    "video11 = 'https://youtu.be/LCmwkjSzr2g'\n",
    "\n",
    "video12 = 'https://youtu.be/bX_kKA6gXCg'\n",
    "\n",
    "video13 = 'https://youtu.be/RXn1g0xtUMk'\n",
    "\n",
    "video14 = 'https://youtu.be/TeUGhrp3TX0'\n",
    "\n",
    "video15 = 'https://youtu.be/5dNiLa0IMKg'\n",
    "\n",
    "video16 = 'https://youtu.be/iGIkfQbOtmw'\n",
    "\n",
    "video17 = 'https://youtu.be/X9xLlelg8qk'\n",
    "\n",
    "video18 = 'https://youtu.be/jQD6S6v4TyU'\n",
    "\n",
    "video19 = 'https://youtu.be/ucTJ7Jqwsqo'\n",
    "\n",
    "video20 = 'https://youtu.be/pSMb50u78Aw'\n",
    "\n",
    "video21 = 'https://youtu.be/RihhE7Qgkww'\n",
    "\n",
    "video22 = 'https://youtu.be/knz-Vyv4_Bw'\n",
    "\n",
    "video23 = 'https://youtu.be/sg21Nj9eT2o'\n",
    "\n",
    "video24 = 'https://youtu.be/xFcF_qfLHeQ'\n",
    "\n",
    "video25 = 'https://youtu.be/m2z8Caoww44'"
   ]
  },
  {
   "cell_type": "code",
   "execution_count": null,
   "metadata": {
    "scrolled": true
   },
   "outputs": [],
   "source": [
    "res.keys()"
   ]
  },
  {
   "cell_type": "markdown",
   "metadata": {},
   "source": []
  },
  {
   "cell_type": "raw",
   "metadata": {},
   "source": [
    "init_vid_dict = {'https://youtu.be/RQxXf6MYpzw', 'https://youtu.be/vVthJ_6103I','https://youtu.be/l17TPkXGVCo','https://youtu.be/m2z8Caoww44', 'https://youtu.be/zMrAZNMXW44', 'https://youtu.be/h9TPeYIMlcc', 'https://youtu.be/q_xJpVlry14', 'https://youtu.be/eHdShyF9x7U', 'https://youtu.be/VLvHlSJXnL8', 'https://youtu.be/Fs9wxF_Xs80', 'https://youtu.be/O7XVQyi7re4', 'https://youtu.be/LCmwkjSzr2g', 'https://youtu.be/bX_kKA6gXCg', 'https://youtu.be/RXn1g0xtUMk', 'https://youtu.be/TeUGhrp3TX0','https://youtu.be/5dNiLa0IMKg', 'https://youtu.be/iGIkfQbOtmw', 'https://youtu.be/X9xLlelg8qk', 'https://youtu.be/jQD6S6v4TyU', 'https://youtu.be/ucTJ7Jqwsqo', 'https://youtu.be/pSMb50u78Aw', 'https://youtu.be/RihhE7Qgkww', 'https://youtu.be/knz-Vyv4_Bw', 'https://youtu.be/sg21Nj9eT2o', 'https://youtu.be/xFcF_qfLHeQ'}"
   ]
  },
  {
   "cell_type": "code",
   "execution_count": 165,
   "metadata": {
    "collapsed": true
   },
   "outputs": [
    {
     "ename": "NameError",
     "evalue": "name 'vid_num' is not defined",
     "output_type": "error",
     "traceback": [
      "\u001b[0;31m---------------------------------------------------------------------------\u001b[0m",
      "\u001b[0;31mNameError\u001b[0m                                 Traceback (most recent call last)",
      "\u001b[0;32m<ipython-input-165-58ddcf222b3a>\u001b[0m in \u001b[0;36m<module>\u001b[0;34m\u001b[0m\n\u001b[0;32m----> 1\u001b[0;31m \u001b[0mres\u001b[0m \u001b[0;34m=\u001b[0m \u001b[0mdict\u001b[0m\u001b[0;34m(\u001b[0m\u001b[0mzip\u001b[0m\u001b[0;34m(\u001b[0m\u001b[0mvid_num\u001b[0m\u001b[0;34m,\u001b[0m \u001b[0minit_vid_dict\u001b[0m\u001b[0;34m)\u001b[0m\u001b[0;34m)\u001b[0m\u001b[0;34m\u001b[0m\u001b[0;34m\u001b[0m\u001b[0m\n\u001b[0m\u001b[1;32m      2\u001b[0m \u001b[0mres\u001b[0m\u001b[0;34m\u001b[0m\u001b[0;34m\u001b[0m\u001b[0m\n",
      "\u001b[0;31mNameError\u001b[0m: name 'vid_num' is not defined"
     ]
    }
   ],
   "source": [
    "res = dict(zip(vid_num, init_vid_dict))\n",
    "res"
   ]
  },
  {
   "cell_type": "code",
   "execution_count": 46,
   "metadata": {},
   "outputs": [],
   "source": [
    "vids = {'video_1': 'https://youtu.be/l17TPkXGVCo',\n",
    " 'video_2': 'https://youtu.be/eHdShyF9x7U',\n",
    " 'video_3': 'https://youtu.be/pSMb50u78Aw',\n",
    " 'video_4': 'https://youtu.be/m2z8Caoww44',\n",
    " 'video_5': 'https://youtu.be/q_xJpVlry14',\n",
    " 'video_6': 'https://youtu.be/RQxXf6MYpzw',\n",
    " 'video_7': 'https://youtu.be/VLvHlSJXnL8',\n",
    " 'video_8': 'https://youtu.be/TeUGhrp3TX0',\n",
    " 'video_9': 'https://youtu.be/zMrAZNMXW44',\n",
    " 'video_10': 'https://youtu.be/bX_kKA6gXCg',\n",
    " 'video_11': 'https://youtu.be/knz-Vyv4_Bw',\n",
    " 'video_12': 'https://youtu.be/O7XVQyi7re4',\n",
    " 'video_13': 'https://youtu.be/5dNiLa0IMKg',\n",
    " 'video_14': 'https://youtu.be/X9xLlelg8qk',\n",
    " 'video_15': 'https://youtu.be/jQD6S6v4TyU',\n",
    " 'video_16': 'https://youtu.be/vVthJ_6103I',\n",
    " 'video_17': 'https://youtu.be/h9TPeYIMlcc',\n",
    " 'video_18': 'https://youtu.be/iGIkfQbOtmw',\n",
    " 'video_19': 'https://youtu.be/xFcF_qfLHeQ',\n",
    " 'video_20': 'https://youtu.be/LCmwkjSzr2g',\n",
    " 'video_21': 'https://youtu.be/ucTJ7Jqwsqo',\n",
    " 'video_22': 'https://youtu.be/RihhE7Qgkww',\n",
    " 'video_23': 'https://youtu.be/RXn1g0xtUMk',\n",
    " 'video_24': 'https://youtu.be/Fs9wxF_Xs80',\n",
    " 'video_25': 'https://youtu.be/sg21Nj9eT2o'}"
   ]
  },
  {
   "cell_type": "code",
   "execution_count": 159,
   "metadata": {
    "scrolled": true
   },
   "outputs": [],
   "source": [
    "link_list = []\n",
    "for key in vids:\n",
    "    link_list.append(\"{}=requests.get{}\".format(key,\"()\"))\n",
    "    \n",
    "linklist.append(link_list[24][:-1] + initial_videos[24] + link_list[24][-1:])"
   ]
  },
  {
   "cell_type": "code",
   "execution_count": 296,
   "metadata": {},
   "outputs": [],
   "source": [
    "linklist = ['video_1=requests.get(https://youtu.be/RQxXf6MYpzw)',\n",
    " 'video_2=requests.get(https://youtu.be/vVthJ_6103I)',\n",
    " 'video_3=requests.get(https://youtu.be/l17TPkXGVCo)',\n",
    " 'video_4=requests.get(https://youtu.be/m2z8Caoww44)',\n",
    " 'video_5=requests.get(https://youtu.be/zMrAZNMXW44)',\n",
    " 'video_6=requests.get(https://youtu.be/h9TPeYIMlcc)',\n",
    " 'video_7=requests.get(https://youtu.be/q_xJpVlry14)',\n",
    " 'video_8=requests.get(https://youtu.be/eHdShyF9x7U)',\n",
    " 'video_9=requests.get(https://youtu.be/VLvHlSJXnL8)',\n",
    " 'video_10=requests.get(https://youtu.be/Fs9wxF_Xs80)',\n",
    " 'video_11=requests.get(https://youtu.be/O7XVQyi7re4)',\n",
    " 'video_12=requests.get(https://youtu.be/LCmwkjSzr2g)',\n",
    " 'video_13=requests.get(https://youtu.be/bX_kKA6gXCg)',\n",
    " 'video_14=requests.get(https://youtu.be/RXn1g0xtUMk)',\n",
    " 'video_15=requests.get(https://youtu.be/TeUGhrp3TX0)',\n",
    " 'video_16=requests.get(https://youtu.be/5dNiLa0IMKg)',\n",
    " 'video_17=requests.get(https://youtu.be/iGIkfQbOtmw)',\n",
    " 'video_18=requests.get(https://youtu.be/X9xLlelg8qk)',\n",
    " 'video_19=requests.get(https://youtu.be/jQD6S6v4TyU)',\n",
    " 'video_20=requests.get(https://youtu.be/ucTJ7Jqwsqo)',\n",
    " 'video_21=requests.get(https://youtu.be/pSMb50u78Aw)',\n",
    " 'video_22=requests.get(https://youtu.be/RihhE7Qgkww)',\n",
    " 'video_23=requests.get(https://youtu.be/knz-Vyv4_Bw)',\n",
    " 'video_24=requests.get(https://youtu.be/sg21Nj9eT2o)',\n",
    " 'video_25=requests.get(https://youtu.be/xFcF_qfLHeQ)']"
   ]
  },
  {
   "cell_type": "code",
   "execution_count": 200,
   "metadata": {},
   "outputs": [
    {
     "name": "stdout",
     "output_type": "stream",
     "text": [
      "video_1=requests.get(\"https://youtu.be/RQxXf6MYpzw\")\n"
     ]
    }
   ],
   "source": [
    "print(linklist[0])"
   ]
  },
  {
   "cell_type": "code",
   "execution_count": null,
   "metadata": {},
   "outputs": [],
   "source": [
    "ythome = requests.get('https://www.youtube.com/')"
   ]
  },
  {
   "cell_type": "code",
   "execution_count": 308,
   "metadata": {},
   "outputs": [
    {
     "data": {
      "text/plain": [
       "['video_1=requests.get(https://youtu.be/RQxXf6MYpzw)',\n",
       " 'video_2=requests.get(https://youtu.be/vVthJ_6103I)',\n",
       " 'video_3=requests.get(https://youtu.be/l17TPkXGVCo)',\n",
       " 'video_4=requests.get(https://youtu.be/m2z8Caoww44)',\n",
       " 'video_5=requests.get(https://youtu.be/zMrAZNMXW44)',\n",
       " 'video_6=requests.get(https://youtu.be/h9TPeYIMlcc)',\n",
       " 'video_7=requests.get(https://youtu.be/q_xJpVlry14)',\n",
       " 'video_8=requests.get(https://youtu.be/eHdShyF9x7U)',\n",
       " 'video_9=requests.get(https://youtu.be/VLvHlSJXnL8)',\n",
       " 'video_10=requests.get(https://youtu.be/Fs9wxF_Xs80)',\n",
       " 'video_11=requests.get(https://youtu.be/O7XVQyi7re4)',\n",
       " 'video_12=requests.get(https://youtu.be/LCmwkjSzr2g)',\n",
       " 'video_13=requests.get(https://youtu.be/bX_kKA6gXCg)',\n",
       " 'video_14=requests.get(https://youtu.be/RXn1g0xtUMk)',\n",
       " 'video_15=requests.get(https://youtu.be/TeUGhrp3TX0)',\n",
       " 'video_16=requests.get(https://youtu.be/5dNiLa0IMKg)',\n",
       " 'video_17=requests.get(https://youtu.be/iGIkfQbOtmw)',\n",
       " 'video_18=requests.get(https://youtu.be/X9xLlelg8qk)',\n",
       " 'video_19=requests.get(https://youtu.be/jQD6S6v4TyU)',\n",
       " 'video_20=requests.get(https://youtu.be/ucTJ7Jqwsqo)',\n",
       " 'video_21=requests.get(https://youtu.be/pSMb50u78Aw)',\n",
       " 'video_22=requests.get(https://youtu.be/RihhE7Qgkww)',\n",
       " 'video_23=requests.get(https://youtu.be/knz-Vyv4_Bw)',\n",
       " 'video_24=requests.get(https://youtu.be/sg21Nj9eT2o)',\n",
       " 'video_25=requests.get(https://youtu.be/xFcF_qfLHeQ)']"
      ]
     },
     "execution_count": 308,
     "metadata": {},
     "output_type": "execute_result"
    }
   ],
   "source": [
    "linklist"
   ]
  },
  {
   "cell_type": "code",
   "execution_count": 316,
   "metadata": {},
   "outputs": [],
   "source": [
    "newlinks = []"
   ]
  },
  {
   "cell_type": "code",
   "execution_count": 318,
   "metadata": {
    "scrolled": true
   },
   "outputs": [
    {
     "data": {
      "text/plain": [
       "['video_1=requests.get(https://youtu.be/RQxXf6MYpzw)',\n",
       " 'video_2=requests.get(https://youtu.be/vVthJ_6103I)',\n",
       " 'video_3=requests.get(https://youtu.be/l17TPkXGVCo)',\n",
       " 'video_4=requests.get(https://youtu.be/m2z8Caoww44)',\n",
       " 'video_5=requests.get(https://youtu.be/zMrAZNMXW44)',\n",
       " 'video_6=requests.get(https://youtu.be/h9TPeYIMlcc)',\n",
       " 'video_7=requests.get(https://youtu.be/q_xJpVlry14)',\n",
       " 'video_8=requests.get(https://youtu.be/eHdShyF9x7U)',\n",
       " 'video_9=requests.get(https://youtu.be/VLvHlSJXnL8)',\n",
       " 'video_10=requests.get(https://youtu.be/Fs9wxF_Xs80)',\n",
       " \"video_25=requests.get'hhttps://youtu.be/xFcF_qfLHeQ')\"]"
      ]
     },
     "execution_count": 318,
     "metadata": {},
     "output_type": "execute_result"
    }
   ],
   "source": [
    "def insert_p(link):\n",
    "    return link[:21] + \"'h\" + link[22:-1] + \"'\" + link[-1]\n",
    "linklist1 = linklist[:10]\n",
    "\n",
    "linklist1.append(insert_p(i))\n",
    "    \n",
    "linklist1"
   ]
  },
  {
   "cell_type": "code",
   "execution_count": 320,
   "metadata": {},
   "outputs": [
    {
     "ename": "NameError",
     "evalue": "name 'requests' is not defined",
     "output_type": "error",
     "traceback": [
      "\u001b[0;31m---------------------------------------------------------------------------\u001b[0m",
      "\u001b[0;31mNameError\u001b[0m                                 Traceback (most recent call last)",
      "\u001b[0;32m<ipython-input-320-844b66904561>\u001b[0m in \u001b[0;36m<module>\u001b[0;34m\u001b[0m\n\u001b[0;32m----> 1\u001b[0;31m \u001b[0mythome\u001b[0m \u001b[0;34m=\u001b[0m \u001b[0mrequests\u001b[0m\u001b[0;34m.\u001b[0m\u001b[0mget\u001b[0m\u001b[0;34m(\u001b[0m\u001b[0;34m'https://www.youtube.com/'\u001b[0m\u001b[0;34m)\u001b[0m\u001b[0;34m\u001b[0m\u001b[0;34m\u001b[0m\u001b[0m\n\u001b[0m\u001b[1;32m      2\u001b[0m \u001b[0mtype\u001b[0m\u001b[0;34m(\u001b[0m\u001b[0mythome\u001b[0m\u001b[0;34m)\u001b[0m\u001b[0;34m\u001b[0m\u001b[0;34m\u001b[0m\u001b[0m\n",
      "\u001b[0;31mNameError\u001b[0m: name 'requests' is not defined"
     ]
    }
   ],
   "source": [
    "ythome = requests.get('https://www.youtube.com/')\n",
    "type(ythome)"
   ]
  },
  {
   "cell_type": "code",
   "execution_count": 304,
   "metadata": {},
   "outputs": [
    {
     "name": "stdout",
     "output_type": "stream",
     "text": [
      "video_1=requests.get('https://youtu.be/RQxXf6MYpzw')\n",
      "video_2=requests.get('https://youtu.be/vVthJ_6103I')\n",
      "video_3=requests.get('https://youtu.be/l17TPkXGVCo')\n",
      "video_4=requests.get('https://youtu.be/m2z8Caoww44')\n",
      "video_5=requests.get('https://youtu.be/zMrAZNMXW44')\n",
      "video_6=requests.get('https://youtu.be/h9TPeYIMlcc')\n",
      "video_7=requests.get('https://youtu.be/q_xJpVlry14')\n",
      "video_8=requests.get('https://youtu.be/eHdShyF9x7U')\n",
      "video_9=requests.get('https://youtu.be/VLvHlSJXnL8')\n",
      "video_10=requests.get'hhttps://youtu.be/Fs9wxF_Xs80')\n",
      "video_11=requests.get'hhttps://youtu.be/O7XVQyi7re4')\n",
      "video_12=requests.get'hhttps://youtu.be/LCmwkjSzr2g')\n",
      "video_13=requests.get'hhttps://youtu.be/bX_kKA6gXCg')\n",
      "video_14=requests.get'hhttps://youtu.be/RXn1g0xtUMk')\n",
      "video_15=requests.get'hhttps://youtu.be/TeUGhrp3TX0')\n",
      "video_16=requests.get'hhttps://youtu.be/5dNiLa0IMKg')\n",
      "video_17=requests.get'hhttps://youtu.be/iGIkfQbOtmw')\n",
      "video_18=requests.get'hhttps://youtu.be/X9xLlelg8qk')\n",
      "video_19=requests.get'hhttps://youtu.be/jQD6S6v4TyU')\n",
      "video_20=requests.get'hhttps://youtu.be/ucTJ7Jqwsqo')\n",
      "video_21=requests.get'hhttps://youtu.be/pSMb50u78Aw')\n",
      "video_22=requests.get'hhttps://youtu.be/RihhE7Qgkww')\n",
      "video_23=requests.get'hhttps://youtu.be/knz-Vyv4_Bw')\n",
      "video_24=requests.get'hhttps://youtu.be/sg21Nj9eT2o')\n",
      "video_25=requests.get'hhttps://youtu.be/xFcF_qfLHeQ')\n"
     ]
    }
   ],
   "source": [
    "for i in newlinks:\n",
    "    print(i)"
   ]
  },
  {
   "cell_type": "code",
   "execution_count": 319,
   "metadata": {},
   "outputs": [
    {
     "ename": "NameError",
     "evalue": "name 'ythome' is not defined",
     "output_type": "error",
     "traceback": [
      "\u001b[0;31m---------------------------------------------------------------------------\u001b[0m",
      "\u001b[0;31mNameError\u001b[0m                                 Traceback (most recent call last)",
      "\u001b[0;32m<ipython-input-319-aa7422fa0e92>\u001b[0m in \u001b[0;36m<module>\u001b[0;34m\u001b[0m\n\u001b[0;32m----> 1\u001b[0;31m \u001b[0mythome\u001b[0m\u001b[0;34m.\u001b[0m\u001b[0mstatus_code\u001b[0m\u001b[0;34m\u001b[0m\u001b[0;34m\u001b[0m\u001b[0m\n\u001b[0m",
      "\u001b[0;31mNameError\u001b[0m: name 'ythome' is not defined"
     ]
    }
   ],
   "source": [
    "ythome.status_code"
   ]
  },
  {
   "cell_type": "code",
   "execution_count": null,
   "metadata": {},
   "outputs": [],
   "source": [
    "ythome.content"
   ]
  },
  {
   "cell_type": "code",
   "execution_count": null,
   "metadata": {},
   "outputs": [],
   "source": [
    "pprint.pprint(ythome.text)"
   ]
  },
  {
   "cell_type": "code",
   "execution_count": null,
   "metadata": {},
   "outputs": [],
   "source": [
    "soup = BeautifulSoup(ythome.content, 'html.parser')\n",
    "soup"
   ]
  },
  {
   "cell_type": "code",
   "execution_count": null,
   "metadata": {},
   "outputs": [],
   "source": [
    "\n",
    "print(soup.prettify())"
   ]
  },
  {
   "cell_type": "code",
   "execution_count": null,
   "metadata": {},
   "outputs": [],
   "source": [
    "client = MongoClient('localhost')\n",
    "db = client.craigslist\n",
    "pages = db.main_pages\n",
    "\n",
    "pages.insert_one({'html': ythome.content})"
   ]
  },
  {
   "cell_type": "code",
   "execution_count": null,
   "metadata": {},
   "outputs": [],
   "source": [
    "soup.find_all('a','result-title hdrlnk')"
   ]
  },
  {
   "cell_type": "code",
   "execution_count": null,
   "metadata": {},
   "outputs": [],
   "source": [
    "tags= soup.find_all('a','result-title hdrlnk')\n",
    "tags"
   ]
  },
  {
   "cell_type": "code",
   "execution_count": null,
   "metadata": {},
   "outputs": [],
   "source": [
    "tag = tags[0]\n",
    "tag"
   ]
  },
  {
   "cell_type": "code",
   "execution_count": null,
   "metadata": {},
   "outputs": [],
   "source": []
  },
  {
   "cell_type": "code",
   "execution_count": null,
   "metadata": {},
   "outputs": [],
   "source": []
  },
  {
   "cell_type": "code",
   "execution_count": null,
   "metadata": {},
   "outputs": [],
   "source": []
  },
  {
   "cell_type": "code",
   "execution_count": null,
   "metadata": {},
   "outputs": [],
   "source": []
  },
  {
   "cell_type": "code",
   "execution_count": null,
   "metadata": {},
   "outputs": [],
   "source": [
    "page = requests.get(\"https://www.youtube.com/watch?v=8vFGrNjT4P4\")\n",
    "type(page)"
   ]
  },
  {
   "cell_type": "code",
   "execution_count": null,
   "metadata": {},
   "outputs": [],
   "source": [
    "page.status_code"
   ]
  },
  {
   "cell_type": "code",
   "execution_count": null,
   "metadata": {},
   "outputs": [],
   "source": [
    "page.content"
   ]
  },
  {
   "cell_type": "code",
   "execution_count": null,
   "metadata": {},
   "outputs": [],
   "source": [
    "pprint.pprint(page.text)"
   ]
  },
  {
   "cell_type": "code",
   "execution_count": null,
   "metadata": {},
   "outputs": [],
   "source": [
    "bsoup = BeautifulSoup(page.content, 'html.parser')\n",
    "bsoup"
   ]
  },
  {
   "cell_type": "code",
   "execution_count": null,
   "metadata": {},
   "outputs": [],
   "source": [
    "bsoup.prettify()"
   ]
  },
  {
   "cell_type": "code",
   "execution_count": null,
   "metadata": {},
   "outputs": [],
   "source": [
    "list(bsoup.children)"
   ]
  },
  {
   "cell_type": "code",
   "execution_count": null,
   "metadata": {},
   "outputs": [],
   "source": [
    "[type(item) for item in list(bsoup.children)]"
   ]
  },
  {
   "cell_type": "code",
   "execution_count": null,
   "metadata": {},
   "outputs": [],
   "source": [
    "thtml = list(bsoup.children)[1]\n",
    "thtml"
   ]
  },
  {
   "cell_type": "code",
   "execution_count": null,
   "metadata": {},
   "outputs": [],
   "source": [
    "list(thtml.children)"
   ]
  },
  {
   "cell_type": "code",
   "execution_count": null,
   "metadata": {},
   "outputs": [],
   "source": [
    "tbody = list(thtml.children)[3]"
   ]
  },
  {
   "cell_type": "markdown",
   "metadata": {},
   "source": [
    "# All instances of a tag at once"
   ]
  },
  {
   "cell_type": "code",
   "execution_count": null,
   "metadata": {},
   "outputs": [],
   "source": []
  },
  {
   "cell_type": "code",
   "execution_count": null,
   "metadata": {},
   "outputs": [],
   "source": []
  },
  {
   "cell_type": "code",
   "execution_count": null,
   "metadata": {},
   "outputs": [],
   "source": []
  },
  {
   "cell_type": "code",
   "execution_count": null,
   "metadata": {},
   "outputs": [],
   "source": []
  },
  {
   "cell_type": "code",
   "execution_count": null,
   "metadata": {},
   "outputs": [],
   "source": []
  },
  {
   "cell_type": "code",
   "execution_count": null,
   "metadata": {},
   "outputs": [],
   "source": [
    "import requests\n",
    "from bs4 import BeautifulSoup"
   ]
  },
  {
   "cell_type": "code",
   "execution_count": null,
   "metadata": {},
   "outputs": [],
   "source": [
    "samp_page = requests.get(\"http://dataquestio.github.io/web-scraping-pages/simple.html\")\n",
    "samp_page"
   ]
  },
  {
   "cell_type": "code",
   "execution_count": null,
   "metadata": {},
   "outputs": [],
   "source": [
    "samp_page.content"
   ]
  },
  {
   "cell_type": "code",
   "execution_count": null,
   "metadata": {},
   "outputs": [],
   "source": [
    "samp_soup = BeautifulSoup(samp_page.content, 'html.parser')\n",
    "samp_soup"
   ]
  },
  {
   "cell_type": "code",
   "execution_count": null,
   "metadata": {},
   "outputs": [],
   "source": [
    "samp_soup.prettify()"
   ]
  },
  {
   "cell_type": "code",
   "execution_count": null,
   "metadata": {},
   "outputs": [],
   "source": [
    "list(samp_soup.children)"
   ]
  },
  {
   "cell_type": "code",
   "execution_count": null,
   "metadata": {},
   "outputs": [],
   "source": [
    "[type(item) for item in list(samp_soup.children)]"
   ]
  },
  {
   "cell_type": "code",
   "execution_count": null,
   "metadata": {},
   "outputs": [],
   "source": [
    "samp_html = list(samp_soup.children)[2]\n",
    "samp_html"
   ]
  },
  {
   "cell_type": "code",
   "execution_count": null,
   "metadata": {},
   "outputs": [],
   "source": [
    "list(samp_html.children)"
   ]
  },
  {
   "cell_type": "code",
   "execution_count": null,
   "metadata": {},
   "outputs": [],
   "source": [
    "samp_body = list(samp_html.children)[3]\n",
    "samp_body"
   ]
  },
  {
   "cell_type": "code",
   "execution_count": null,
   "metadata": {},
   "outputs": [],
   "source": [
    "list(samp_body.children)"
   ]
  },
  {
   "cell_type": "code",
   "execution_count": null,
   "metadata": {},
   "outputs": [],
   "source": [
    "p = list(samp_body.children)[1]\n",
    "p"
   ]
  },
  {
   "cell_type": "code",
   "execution_count": null,
   "metadata": {},
   "outputs": [],
   "source": [
    "p.get_text()"
   ]
  },
  {
   "cell_type": "code",
   "execution_count": null,
   "metadata": {},
   "outputs": [],
   "source": [
    "# FROM BEFORE samp_soup = BeautifulSoup(page.content, 'html.parser')\n",
    "samp_soup.find_all('p')"
   ]
  },
  {
   "cell_type": "code",
   "execution_count": null,
   "metadata": {},
   "outputs": [],
   "source": [
    "samp_soup.find_all('p')[0].get_text()"
   ]
  },
  {
   "cell_type": "code",
   "execution_count": null,
   "metadata": {},
   "outputs": [],
   "source": [
    "samp_soup.find('p')"
   ]
  },
  {
   "cell_type": "markdown",
   "metadata": {},
   "source": [
    "# Searching for tags by class and id"
   ]
  },
  {
   "cell_type": "code",
   "execution_count": null,
   "metadata": {},
   "outputs": [],
   "source": [
    "#http://dataquestio.github.io/web-scraping-pages/ids_and_classes.html"
   ]
  },
  {
   "cell_type": "code",
   "execution_count": null,
   "metadata": {},
   "outputs": [],
   "source": [
    "sec_page = requests.get(\"http://dataquestio.github.io/web-scraping-pages/ids_and_classes.html\")\n",
    "sec_soup = BeautifulSoup(sec_page.content,'html.parser')\n",
    "sec_soup"
   ]
  },
  {
   "cell_type": "code",
   "execution_count": null,
   "metadata": {},
   "outputs": [],
   "source": [
    "sec_soup.find_all('p', class_='outer-text')"
   ]
  },
  {
   "cell_type": "code",
   "execution_count": null,
   "metadata": {},
   "outputs": [],
   "source": [
    "sec_soup.find_all(class_=\"outer-text\")"
   ]
  },
  {
   "cell_type": "code",
   "execution_count": null,
   "metadata": {},
   "outputs": [],
   "source": [
    "sec_soup.find_all(id=\"first\")"
   ]
  },
  {
   "cell_type": "code",
   "execution_count": null,
   "metadata": {
    "scrolled": true
   },
   "outputs": [],
   "source": [
    "sec_soup.select(\"div p\")"
   ]
  }
 ],
 "metadata": {
  "kernelspec": {
   "display_name": "Python 3",
   "language": "python",
   "name": "python3"
  },
  "language_info": {
   "codemirror_mode": {
    "name": "ipython",
    "version": 3
   },
   "file_extension": ".py",
   "mimetype": "text/x-python",
   "name": "python",
   "nbconvert_exporter": "python",
   "pygments_lexer": "ipython3",
   "version": "3.7.4"
  }
 },
 "nbformat": 4,
 "nbformat_minor": 2
}
