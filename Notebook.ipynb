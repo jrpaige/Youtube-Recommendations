{
 "cells": [
  {
   "cell_type": "markdown",
   "metadata": {},
   "source": [
    "import numpy as np\n",
    "import pandas as pd\n",
    "import matplotlib.pyplot as plt\n",
    "import seaborn as sns\n",
    "%matplotlib inline"
   ]
  },
  {
   "cell_type": "code",
   "execution_count": 45,
   "metadata": {},
   "outputs": [],
   "source": [
    "df = pd.read_csv('full.csv')"
   ]
  },
  {
   "cell_type": "code",
   "execution_count": 46,
   "metadata": {},
   "outputs": [
    {
     "data": {
      "text/html": [
       "<div>\n",
       "<style scoped>\n",
       "    .dataframe tbody tr th:only-of-type {\n",
       "        vertical-align: middle;\n",
       "    }\n",
       "\n",
       "    .dataframe tbody tr th {\n",
       "        vertical-align: top;\n",
       "    }\n",
       "\n",
       "    .dataframe thead th {\n",
       "        text-align: right;\n",
       "    }\n",
       "</style>\n",
       "<table border=\"1\" class=\"dataframe\">\n",
       "  <thead>\n",
       "    <tr style=\"text-align: right;\">\n",
       "      <th></th>\n",
       "      <th>Search Term</th>\n",
       "      <th>Rank</th>\n",
       "      <th>Category</th>\n",
       "      <th>Length</th>\n",
       "      <th>Poster</th>\n",
       "      <th>Title</th>\n",
       "      <th>Views</th>\n",
       "      <th>Date</th>\n",
       "    </tr>\n",
       "  </thead>\n",
       "  <tbody>\n",
       "    <tr>\n",
       "      <td>0</td>\n",
       "      <td>Animation</td>\n",
       "      <td>1.0</td>\n",
       "      <td>Film &amp; Animation</td>\n",
       "      <td>1:00</td>\n",
       "      <td>CGMeetup</td>\n",
       "      <td>CGI Animated Short Film: \"Crunch\" by Gof Anima...</td>\n",
       "      <td>778,604</td>\n",
       "      <td>Dec 20, 2019</td>\n",
       "    </tr>\n",
       "    <tr>\n",
       "      <td>1</td>\n",
       "      <td>Animation</td>\n",
       "      <td>2.0</td>\n",
       "      <td>Film &amp; Animation</td>\n",
       "      <td>3:43</td>\n",
       "      <td>Jacob Mann</td>\n",
       "      <td>CGI Short Film \"Extinguished\" by Ashley Anders...</td>\n",
       "      <td>4,140,857</td>\n",
       "      <td>Jul 23, 2017</td>\n",
       "    </tr>\n",
       "    <tr>\n",
       "      <td>2</td>\n",
       "      <td>Animation</td>\n",
       "      <td>3.0</td>\n",
       "      <td>Music</td>\n",
       "      <td>7:44</td>\n",
       "      <td>Fred H. Music</td>\n",
       "      <td>Sound Design project: ONE SMALL STEP by TAIKO ...</td>\n",
       "      <td>1,143,185</td>\n",
       "      <td>Jul 11, 2019</td>\n",
       "    </tr>\n",
       "    <tr>\n",
       "      <td>3</td>\n",
       "      <td>Animation</td>\n",
       "      <td>4.0</td>\n",
       "      <td>Film &amp; Animation</td>\n",
       "      <td>6:34</td>\n",
       "      <td>ESMA Movies</td>\n",
       "      <td>Sun Knapping</td>\n",
       "      <td>3,762,358</td>\n",
       "      <td>Apr 10, 2012</td>\n",
       "    </tr>\n",
       "    <tr>\n",
       "      <td>4</td>\n",
       "      <td>Animation</td>\n",
       "      <td>5.0</td>\n",
       "      <td>Film &amp; Animation</td>\n",
       "      <td>5:57</td>\n",
       "      <td>ESMA Movies</td>\n",
       "      <td>Sweet Cocoon - ESMA 2014</td>\n",
       "      <td>9,043,018</td>\n",
       "      <td>Oct 30, 2014</td>\n",
       "    </tr>\n",
       "    <tr>\n",
       "      <td>...</td>\n",
       "      <td>...</td>\n",
       "      <td>...</td>\n",
       "      <td>...</td>\n",
       "      <td>...</td>\n",
       "      <td>...</td>\n",
       "      <td>...</td>\n",
       "      <td>...</td>\n",
       "      <td>...</td>\n",
       "    </tr>\n",
       "    <tr>\n",
       "      <td>596</td>\n",
       "      <td>Science Technology</td>\n",
       "      <td>46.0</td>\n",
       "      <td>Gaming</td>\n",
       "      <td>10:01</td>\n",
       "      <td>EthanGamer</td>\n",
       "      <td>Playing Soccer Physics (iPad/iOS/Android Gamep...</td>\n",
       "      <td>4,493,805</td>\n",
       "      <td>Feb 26, 2015</td>\n",
       "    </tr>\n",
       "    <tr>\n",
       "      <td>597</td>\n",
       "      <td>Science Technology</td>\n",
       "      <td>47.0</td>\n",
       "      <td>Gaming</td>\n",
       "      <td>7:35</td>\n",
       "      <td>EthanGamer</td>\n",
       "      <td>EthanGamerTV plays Block Amok (iPad/iOS/Android)</td>\n",
       "      <td>811,120</td>\n",
       "      <td>Apr 10, 2015</td>\n",
       "    </tr>\n",
       "    <tr>\n",
       "      <td>598</td>\n",
       "      <td>Science Technology</td>\n",
       "      <td>48.0</td>\n",
       "      <td>Gaming</td>\n",
       "      <td>13:27</td>\n",
       "      <td>EthanGamer</td>\n",
       "      <td>Lets go to the Minecraft Funland - Part 5</td>\n",
       "      <td>2,050,445</td>\n",
       "      <td>Jul 29, 2014</td>\n",
       "    </tr>\n",
       "    <tr>\n",
       "      <td>599</td>\n",
       "      <td>Science Technology</td>\n",
       "      <td>49.0</td>\n",
       "      <td>Gaming</td>\n",
       "      <td>12:33</td>\n",
       "      <td>EthanGamer</td>\n",
       "      <td>Playing Minecraft with subscribers - Part 2</td>\n",
       "      <td>2,084,528</td>\n",
       "      <td>Aug 12, 2014</td>\n",
       "    </tr>\n",
       "    <tr>\n",
       "      <td>600</td>\n",
       "      <td>Science Technology</td>\n",
       "      <td>50.0</td>\n",
       "      <td>Gaming</td>\n",
       "      <td>33:54</td>\n",
       "      <td>EthanGamer</td>\n",
       "      <td>EthanGamerTV Fans' Minecraft World - Episode #4</td>\n",
       "      <td>3,939,446</td>\n",
       "      <td>Jan 6, 2015</td>\n",
       "    </tr>\n",
       "  </tbody>\n",
       "</table>\n",
       "<p>601 rows × 8 columns</p>\n",
       "</div>"
      ],
      "text/plain": [
       "            Search Term  Rank          Category Length         Poster  \\\n",
       "0             Animation   1.0  Film & Animation   1:00       CGMeetup   \n",
       "1             Animation   2.0  Film & Animation   3:43     Jacob Mann   \n",
       "2             Animation   3.0             Music   7:44  Fred H. Music   \n",
       "3             Animation   4.0  Film & Animation   6:34    ESMA Movies   \n",
       "4             Animation   5.0  Film & Animation   5:57    ESMA Movies   \n",
       "..                  ...   ...               ...    ...            ...   \n",
       "596  Science Technology  46.0            Gaming  10:01     EthanGamer   \n",
       "597  Science Technology  47.0            Gaming   7:35     EthanGamer   \n",
       "598  Science Technology  48.0            Gaming  13:27     EthanGamer   \n",
       "599  Science Technology  49.0            Gaming  12:33     EthanGamer   \n",
       "600  Science Technology  50.0            Gaming  33:54     EthanGamer   \n",
       "\n",
       "                                                 Title        Views  \\\n",
       "0    CGI Animated Short Film: \"Crunch\" by Gof Anima...    778,604     \n",
       "1    CGI Short Film \"Extinguished\" by Ashley Anders...  4,140,857     \n",
       "2    Sound Design project: ONE SMALL STEP by TAIKO ...  1,143,185     \n",
       "3                                         Sun Knapping  3,762,358     \n",
       "4                             Sweet Cocoon - ESMA 2014  9,043,018     \n",
       "..                                                 ...          ...   \n",
       "596  Playing Soccer Physics (iPad/iOS/Android Gamep...  4,493,805     \n",
       "597   EthanGamerTV plays Block Amok (iPad/iOS/Android)    811,120     \n",
       "598          Lets go to the Minecraft Funland - Part 5  2,050,445     \n",
       "599        Playing Minecraft with subscribers - Part 2  2,084,528     \n",
       "600    EthanGamerTV Fans' Minecraft World - Episode #4  3,939,446     \n",
       "\n",
       "             Date  \n",
       "0    Dec 20, 2019  \n",
       "1    Jul 23, 2017  \n",
       "2    Jul 11, 2019  \n",
       "3    Apr 10, 2012  \n",
       "4    Oct 30, 2014  \n",
       "..            ...  \n",
       "596  Feb 26, 2015  \n",
       "597  Apr 10, 2015  \n",
       "598  Jul 29, 2014  \n",
       "599  Aug 12, 2014  \n",
       "600   Jan 6, 2015  \n",
       "\n",
       "[601 rows x 8 columns]"
      ]
     },
     "execution_count": 46,
     "metadata": {},
     "output_type": "execute_result"
    }
   ],
   "source": [
    "df"
   ]
  },
  {
   "cell_type": "code",
   "execution_count": 47,
   "metadata": {
    "scrolled": true
   },
   "outputs": [
    {
     "data": {
      "text/plain": [
       "<matplotlib.axes._subplots.AxesSubplot at 0x1a242e0310>"
      ]
     },
     "execution_count": 47,
     "metadata": {},
     "output_type": "execute_result"
    },
    {
     "data": {
      "image/png": "[encoded data removed]",
      "text/plain": [
       "<Figure size 432x288 with 1 Axes>"
      ]
     },
     "metadata": {
      "needs_background": "light"
     },
     "output_type": "display_data"
    }
   ],
   "source": [
    "df['Category'].hist()"
   ]
  },
  {
   "cell_type": "code",
   "execution_count": 58,
   "metadata": {
    "collapsed": true
   },
   "outputs": [
    {
     "data": {
      "text/plain": [
       "<matplotlib.axes._subplots.AxesSubplot at 0x1a2504ec50>"
      ]
     },
     "execution_count": 58,
     "metadata": {},
     "output_type": "execute_result"
    },
    {
     "data": {
      "image/png": "[encoded data removed]",
      "text/plain": [
       "<Figure size 432x288 with 2 Axes>"
      ]
     },
     "metadata": {
      "needs_background": "light"
     },
     "output_type": "display_data"
    }
   ],
   "source": [
    "corr = df.loc[:,df.dtypes == 'float64'].corr()\n",
    "sns.heatmap(corr, xticklabels=corr.columns, yticklabels=corr.columns, cmap=sns.diverging_palette(220, 10, as_cmap=True))"
   ]
  },
  {
   "cell_type": "code",
   "execution_count": null,
   "metadata": {},
   "outputs": [],
   "source": []
  }
 ],
 "metadata": {
  "kernelspec": {
   "display_name": "Python 3",
   "language": "python",
   "name": "python3"
  },
  "language_info": {
   "codemirror_mode": {
    "name": "ipython",
    "version": 3
   },
   "file_extension": ".py",
   "mimetype": "text/x-python",
   "name": "python",
   "nbconvert_exporter": "python",
   "pygments_lexer": "ipython3",
   "version": "3.7.4"
  }
 },
 "nbformat": 4,
 "nbformat_minor": 2
}
